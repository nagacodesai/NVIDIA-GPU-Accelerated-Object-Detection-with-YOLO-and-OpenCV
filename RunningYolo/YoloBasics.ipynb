{
 "cells": [
  {
   "cell_type": "code",
   "execution_count": 28,
   "metadata": {},
   "outputs": [],
   "source": [
    "from ultralytics import YOLO\n",
    "import cv2\n",
    "import os\n",
    "import shutil\n",
    "\n",
    "# Path to YOLO weights\n",
    "weights_dir = '../yoloWeights'\n",
    "weights_path = os.path.join(weights_dir, 'yolov8n.pt')\n",
    "# Ensure the weights directory exists\n",
    "os.makedirs(weights_dir, exist_ok=True)"
   ]
  },
  {
   "cell_type": "code",
   "execution_count": 29,
   "metadata": {},
   "outputs": [],
   "source": [
    "def checkWeightsReturnModel():\n",
    "    # Check if weights file exists\n",
    "    if not os.path.exists(weights_path):\n",
    "        print(f\"Weights not found at {weights_path}. Downloading...\") \n",
    "        try:\n",
    "            # Load the model with default behavior to download the weights\n",
    "            model = YOLO('yolov8n.pt')  # This line downloads the weights\n",
    "            # Move the downloaded weights to the designated directory\n",
    "            shutil.move('yolov8n.pt', weights_path)\n",
    "            print(f\"Weights downloaded and moved to {weights_path}\")\n",
    "        except Exception as e:\n",
    "            print(f\"Error handling weights: {e}\")\n",
    "            raise\n",
    "        return model\n",
    "    else:\n",
    "        print(f\"Weights found at {weights_path}. Using local copy.\")\n",
    "        # Load the model using local weights\n",
    "        model = YOLO(weights_path)\n",
    "        return model"
   ]
  },
  {
   "cell_type": "code",
   "execution_count": null,
   "metadata": {},
   "outputs": [],
   "source": [
    "def detectImage(imgFile, model):\n",
    "    # Perform inference\n",
    "    results = model(imgFile)\n",
    "\n",
    "    # Process results for better display\n",
    "    image = results[0].plot()  # Get the annotated image from the results\n",
    "    #output_image_path = f'output_{imgFile}'\n",
    "    output_image_path = f'output_{os.path.basename(imgFile)}'\n",
    "    cv2.imwrite(output_image_path, image)  # Save the annotated image for review\n",
    "\n",
    "    # Display the annotated image with a friendlier window\n",
    "    cv2.namedWindow('YOLO Detection', cv2.WINDOW_NORMAL)  # Create a named window\n",
    "    cv2.resizeWindow('YOLO Detection', 800, 600)         # Resize the window\n",
    "    cv2.imshow('YOLO Detection', image)                 # Display the image\n",
    "    cv2.waitKey(0)                                      # Wait for a key press\n",
    "    cv2.destroyAllWindows()                             # Destroy all windows\n",
    "# Destroy all OpenCV windows\n",
    "#cv2.destroyAllWindows()"
   ]
  },
  {
   "cell_type": "code",
   "execution_count": 32,
   "metadata": {},
   "outputs": [
    {
     "name": "stdout",
     "output_type": "stream",
     "text": [
      "Weights found at ../yoloWeights\\yolov8n.pt. Using local copy.\n",
      "\n",
      "image 1/1 d:\\GitHub Works\\NVIDIA-GPU-Accelerated-Object-Detection-with-YOLO-and-OpenCV\\NVIDIA-GPU-Accelerated-Object-Detection-with-YOLO-and-OpenCV\\RunningYolo\\IMG_1445.jpg: 480x640 4 cars, 2 trucks, 1 fire hydrant, 26.3ms\n",
      "Speed: 4.3ms preprocess, 26.3ms inference, 1.1ms postprocess per image at shape (1, 3, 480, 640)\n"
     ]
    }
   ],
   "source": [
    "model = checkWeightsReturnModel()\n",
    "imgFle = 'IMG_1445.jpg'\n",
    "dedectImage(imgFle,model)"
   ]
  },
  {
   "cell_type": "code",
   "execution_count": null,
   "metadata": {},
   "outputs": [],
   "source": []
  }
 ],
 "metadata": {
  "kernelspec": {
   "display_name": "base",
   "language": "python",
   "name": "python3"
  },
  "language_info": {
   "codemirror_mode": {
    "name": "ipython",
    "version": 3
   },
   "file_extension": ".py",
   "mimetype": "text/x-python",
   "name": "python",
   "nbconvert_exporter": "python",
   "pygments_lexer": "ipython3",
   "version": "3.12.7"
  }
 },
 "nbformat": 4,
 "nbformat_minor": 2
}
